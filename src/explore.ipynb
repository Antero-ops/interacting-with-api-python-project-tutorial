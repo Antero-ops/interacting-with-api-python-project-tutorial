{
    "cells": [
        {
            "cell_type": "markdown",
            "metadata": {},
            "source": [
                "# Explore here"
            ]
        },
        {
            "cell_type": "code",
            "execution_count": 2,
            "metadata": {},
            "outputs": [
                {
                    "name": "stdout",
                    "output_type": "stream",
                    "text": [
                        "b2121689679e478ca3b38238dc5a3d81\n",
                        "6bd0f67312e248a8b304a9396fa2236f\n"
                    ]
                }
            ],
            "source": [
                "from dotenv import load_dotenv\n",
                "load_dotenv()\n",
                "\n",
                "import os\n",
                "\n",
                "client_id = os.environ.get(\"CLIENT_ID\")\n",
                "client_secret = os.environ.get(\"CLIENT_SECRET\")\n",
                "\n",
                "print(client_id)\n",
                "print(client_secret)"
            ]
        },
        {
            "cell_type": "code",
            "execution_count": 3,
            "metadata": {},
            "outputs": [
                {
                    "name": "stdout",
                    "output_type": "stream",
                    "text": [
                        "Houdini\n",
                        "Without Me\n",
                        "Mockingbird\n",
                        "The Real Slim Shady\n",
                        "Lose Yourself\n",
                        "Love The Way You Lie\n",
                        "Till I Collapse\n",
                        "Superman\n",
                        "Godzilla (feat. Juice WRLD)\n",
                        "Stan\n"
                    ]
                }
            ],
            "source": [
                "import spotipy\n",
                "from spotipy.oauth2 import SpotifyClientCredentials\n",
                "\n",
                "sp = spotipy.Spotify(auth_manager = SpotifyClientCredentials(client_id = client_id, client_secret = client_secret))\n",
                "\n",
                "artist = \"spotify:artist:7dGJo4pcD2V6oG8kP0tJRR\"\n",
                "dict_eminem = sp.artist_top_tracks(artist, country = \"US\")\n",
                "list_info_eminem_canciones = dict_eminem[\"tracks\"]\n",
                "\n",
                "for tracks in list_info_eminem_canciones:\n",
                "    print(tracks[\"name\"])\n",
                "\n"
            ]
        },
        {
            "cell_type": "code",
            "execution_count": 35,
            "metadata": {},
            "outputs": [
                {
                    "name": "stdout",
                    "output_type": "stream",
                    "text": [
                        "1. Houdini | Duration: 3:47 | Popularity: 80\n",
                        "2. Without Me | Duration: 4:50 | Popularity: 86\n",
                        "3. Mockingbird | Duration: 4:10 | Popularity: 86\n",
                        "4. The Real Slim Shady | Duration: 4:44 | Popularity: 85\n",
                        "5. Lose Yourself | Duration: 5:22 | Popularity: 79\n",
                        "6. Love The Way You Lie | Duration: 4:23 | Popularity: 83\n",
                        "7. Till I Collapse | Duration: 4:57 | Popularity: 83\n",
                        "8. Superman | Duration: 5:50 | Popularity: 82\n",
                        "9. Godzilla (feat. Juice WRLD) | Duration: 3:30 | Popularity: 81\n",
                        "10. Stan | Duration: 6:44 | Popularity: 79\n"
                    ]
                }
            ],
            "source": [
                "import spotipy\n",
                "from spotipy.oauth2 import SpotifyClientCredentials\n",
                "\n",
                "sp = spotipy.Spotify(auth_manager = SpotifyClientCredentials(client_id = client_id, client_secret = client_secret))\n",
                "\n",
                "artist = \"spotify:artist:7dGJo4pcD2V6oG8kP0tJRR\"\n",
                "dict_eminem = sp.artist_top_tracks(artist, country = \"US\")\n",
                "list_info_eminem_canciones = dict_eminem[\"tracks\"]\n",
                "\n",
                "track_data = []\n",
                "\n",
                "for idx, track in enumerate(dict_eminem['tracks'][:10]):\n",
                "    name = track['name']\n",
                "    duration_ms = track['duration_ms'] // 1000\n",
                "    popularity = track['popularity']\n",
                "\n",
                "\n",
                "    minutes = duration_ms // 60\n",
                "    seconds = duration_ms % 60\n",
                "    duration = f\"{minutes}:{seconds:02d}\"\n",
                "\n",
                "    track_data.append({\n",
                "        \"Nombre de la canción\": name,\n",
                "        \"Duración\": duration,\n",
                "        \"Popularidad / 100\": popularity\n",
                "    })\n",
                "    \n",
                "        \n",
                "    print(f\"{idx+1}. {name} | Duration: {duration} | Popularity: {popularity}\")"
            ]
        },
        {
            "cell_type": "code",
            "execution_count": 36,
            "metadata": {},
            "outputs": [
                {
                    "name": "stdout",
                    "output_type": "stream",
                    "text": [
                        "          Nombre de la canción Duración  Popularidad / 100\n",
                        "0                      Houdini     3:47                 80\n",
                        "1                   Without Me     4:50                 86\n",
                        "2                  Mockingbird     4:10                 86\n",
                        "3          The Real Slim Shady     4:44                 85\n",
                        "4                Lose Yourself     5:22                 79\n",
                        "5         Love The Way You Lie     4:23                 83\n",
                        "6              Till I Collapse     4:57                 83\n",
                        "7                     Superman     5:50                 82\n",
                        "8  Godzilla (feat. Juice WRLD)     3:30                 81\n",
                        "9                         Stan     6:44                 79\n"
                    ]
                }
            ],
            "source": [
                "import pandas as pd\n",
                "\n",
                "df = pd.DataFrame(track_data)\n",
                "\n",
                "print(df)"
            ]
        },
        {
            "cell_type": "code",
            "execution_count": 44,
            "metadata": {},
            "outputs": [
                {
                    "name": "stdout",
                    "output_type": "stream",
                    "text": [
                        "Axes(0.125,0.11;0.775x0.77)\n"
                    ]
                },
                {
                    "data": {
                        "image/png": "[encoded data removed]",
                        "text/plain": [
                            "<Figure size 640x480 with 1 Axes>"
                        ]
                    },
                    "metadata": {},
                    "output_type": "display_data"
                }
            ],
            "source": [
                "import seaborn as sns\n",
                "\n",
                "scatter_plot_canciones = sns.scatterplot(df)\n",
                "\n",
                "print(scatter_plot_canciones)"
            ]
        }
    ],
    "metadata": {
        "kernelspec": {
            "display_name": "Python 3",
            "language": "python",
            "name": "python3"
        },
        "language_info": {
            "codemirror_mode": {
                "name": "ipython",
                "version": 3
            },
            "file_extension": ".py",
            "mimetype": "text/x-python",
            "name": "python",
            "nbconvert_exporter": "python",
            "pygments_lexer": "ipython3",
            "version": "3.11.4"
        },
        "orig_nbformat": 4
    },
    "nbformat": 4,
    "nbformat_minor": 2
}
